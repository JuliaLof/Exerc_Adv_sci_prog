{
 "cells": [
  {
   "cell_type": "markdown",
   "metadata": {},
   "source": [
    "# Day 3, part 1"
   ]
  },
  {
   "cell_type": "code",
   "execution_count": 1,
   "metadata": {},
   "outputs": [],
   "source": [
    "import numpy as np"
   ]
  },
  {
   "cell_type": "code",
   "execution_count": 2,
   "metadata": {},
   "outputs": [
    {
     "name": "stdout",
     "output_type": "stream",
     "text": [
      "[0. 0. 0. 0. 1. 0. 0. 0. 0. 0.]\n"
     ]
    }
   ],
   "source": [
    "x = np.zeros(10)\n",
    "x[4] = 1\n",
    "print(x)"
   ]
  },
  {
   "cell_type": "code",
   "execution_count": 6,
   "metadata": {},
   "outputs": [
    {
     "name": "stdout",
     "output_type": "stream",
     "text": [
      "[10 11 12 13 14 15 16 17 18 19 20 21 22 23 24 25 26 27 28 29 30 31 32 33\n",
      " 34 35 36 37 38 39 40 41 42 43 44 45 46 47 48 49]\n"
     ]
    }
   ],
   "source": [
    "y = np.arange(10,50)\n",
    "print(y)"
   ]
  },
  {
   "cell_type": "code",
   "execution_count": 7,
   "metadata": {},
   "outputs": [
    {
     "name": "stdout",
     "output_type": "stream",
     "text": [
      "[49 48 47 46 45 44 43 42 41 40 39 38 37 36 35 34 33 32 31 30 29 28 27 26\n",
      " 25 24 23 22 21 20 19 18 17 16 15 14 13 12 11 10]\n"
     ]
    }
   ],
   "source": [
    "z = np.flip(y)\n",
    "print(z)"
   ]
  },
  {
   "cell_type": "code",
   "execution_count": 8,
   "metadata": {},
   "outputs": [
    {
     "name": "stdout",
     "output_type": "stream",
     "text": [
      "[[0 1 2]\n",
      " [3 4 5]\n",
      " [6 7 8]]\n"
     ]
    }
   ],
   "source": [
    "u = np.arange(9).reshape((3,3))\n",
    "print(u)"
   ]
  },
  {
   "cell_type": "code",
   "execution_count": 9,
   "metadata": {},
   "outputs": [
    {
     "name": "stdout",
     "output_type": "stream",
     "text": [
      "(array([0, 1, 4], dtype=int64),)\n"
     ]
    }
   ],
   "source": [
    "v= np.nonzero([1,2,0,0,4,0])\n",
    "print(v)"
   ]
  },
  {
   "cell_type": "code",
   "execution_count": 38,
   "metadata": {},
   "outputs": [
    {
     "name": "stdout",
     "output_type": "stream",
     "text": [
      "0.4673071006197534\n"
     ]
    }
   ],
   "source": [
    "w = np.random.rand(30)\n",
    "mw = np.mean(w)\n",
    "print(mw)"
   ]
  },
  {
   "cell_type": "code",
   "execution_count": 41,
   "metadata": {},
   "outputs": [
    {
     "name": "stdout",
     "output_type": "stream",
     "text": [
      "[[1. 1. 1.]\n",
      " [1. 0. 1.]\n",
      " [1. 1. 1.]]\n"
     ]
    }
   ],
   "source": [
    "s = np.ones(9)\n",
    "s[4] = 0\n",
    "s = s.reshape(3,3)\n",
    "print(s)"
   ]
  },
  {
   "cell_type": "code",
   "execution_count": 30,
   "metadata": {},
   "outputs": [
    {
     "name": "stdout",
     "output_type": "stream",
     "text": [
      "[[0. 8. 0. 8. 0. 8. 0. 8.]\n",
      " [8. 0. 8. 0. 8. 0. 8. 0.]\n",
      " [0. 8. 0. 8. 0. 8. 0. 8.]\n",
      " [8. 0. 8. 0. 8. 0. 8. 0.]\n",
      " [0. 8. 0. 8. 0. 8. 0. 8.]\n",
      " [8. 0. 8. 0. 8. 0. 8. 0.]\n",
      " [0. 8. 0. 8. 0. 8. 0. 8.]\n",
      " [8. 0. 8. 0. 8. 0. 8. 0.]]\n"
     ]
    }
   ],
   "source": [
    "p = np.zeros(64)\n",
    "p[1:8:2] = 8\n",
    "p[8:16:2]= 8\n",
    "p[17:24:2] = 8\n",
    "p[24:32:2] = 8\n",
    "p[33:40:2] = 8\n",
    "p[40:48:2] = 8\n",
    "p[49:56:2] = 8\n",
    "p[56:64:2] = 8\n",
    "p = p.reshape(8,8)\n",
    "print(p)"
   ]
  },
  {
   "cell_type": "code",
   "execution_count": 43,
   "metadata": {},
   "outputs": [
    {
     "name": "stdout",
     "output_type": "stream",
     "text": [
      "[[0 8 0 8 0 8 0 8]\n",
      " [8 0 8 0 8 0 8 0]\n",
      " [0 8 0 8 0 8 0 8]\n",
      " [8 0 8 0 8 0 8 0]\n",
      " [0 8 0 8 0 8 0 8]\n",
      " [8 0 8 0 8 0 8 0]\n",
      " [0 8 0 8 0 8 0 8]\n",
      " [8 0 8 0 8 0 8 0]]\n"
     ]
    }
   ],
   "source": [
    "d = np.array([[0,8],[8,0]])\n",
    "d = np.tile(d, (4,4))\n",
    "print(d)"
   ]
  },
  {
   "cell_type": "code",
   "execution_count": 55,
   "metadata": {},
   "outputs": [
    {
     "name": "stdout",
     "output_type": "stream",
     "text": [
      "[ 0  1  2  3 -4 -5 -6 -7  8  9 10]\n"
     ]
    }
   ],
   "source": [
    "f = np.arange(11)\n",
    "f[4:8] = -f[4:8]\n",
    "print(f)"
   ]
  },
  {
   "cell_type": "code",
   "execution_count": 56,
   "metadata": {},
   "outputs": [
    {
     "name": "stdout",
     "output_type": "stream",
     "text": [
      "[0.03044267 0.07468194 0.13925191 0.21402803 0.32509009 0.36072165\n",
      " 0.58222701 0.65965765 0.69080448 0.99075681]\n"
     ]
    }
   ],
   "source": [
    "g = np.random.random(10)\n",
    "g = np.sort(g)\n",
    "print(g)"
   ]
  },
  {
   "cell_type": "code",
   "execution_count": 59,
   "metadata": {},
   "outputs": [
    {
     "name": "stdout",
     "output_type": "stream",
     "text": [
      "[False  True False  True  True]\n"
     ]
    }
   ],
   "source": [
    "h_1 = np.random.randint(0,2,5)\n",
    "h_2 = np.random.randint(0,2,5)\n",
    "equal = h_1 == h_2\n",
    "print(equal)"
   ]
  },
  {
   "cell_type": "code",
   "execution_count": 61,
   "metadata": {},
   "outputs": [
    {
     "name": "stdout",
     "output_type": "stream",
     "text": [
      "int32\n",
      "float32\n"
     ]
    }
   ],
   "source": [
    "k = np.arange(10, dtype=np.int32)\n",
    "print(k.dtype)\n",
    "k = k.astype(np.float32)\n",
    "print(k.dtype)"
   ]
  },
  {
   "cell_type": "code",
   "execution_count": 64,
   "metadata": {},
   "outputs": [
    {
     "name": "stdout",
     "output_type": "stream",
     "text": [
      "[ 18  66 132]\n"
     ]
    }
   ],
   "source": [
    "A = np.arange(9).reshape(3,3)\n",
    "B = A + 1\n",
    "C = np.dot(A,B)\n",
    "D = np.diag(C)\n",
    "print(D)"
   ]
  },
  {
   "cell_type": "markdown",
   "metadata": {},
   "source": [
    "# Day 3, part 2"
   ]
  },
  {
   "cell_type": "markdown",
   "metadata": {},
   "source": [
    "This is the same as my optimisation in the task for day 2! I saw on slack that using np was recommended so that is what I did. Hope that is ok!"
   ]
  },
  {
   "cell_type": "markdown",
   "metadata": {},
   "source": [
    "# Day 3, part 3"
   ]
  },
  {
   "cell_type": "code",
   "execution_count": 19,
   "metadata": {},
   "outputs": [],
   "source": [
    "class Person:\n",
    "    def __init__(self, firstname, lastname):\n",
    "        self.firstname = firstname\n",
    "        self.lastname = lastname\n",
    "        \n",
    "    def fullname(self):\n",
    "        return '{self.lastname}, {self.firstname} {self.lastname}'.format(self=self) "
   ]
  },
  {
   "cell_type": "code",
   "execution_count": 54,
   "metadata": {},
   "outputs": [
    {
     "name": "stdout",
     "output_type": "stream",
     "text": [
      "My name is Bond, James Bond, and I study Intersectional feminism 101.\n"
     ]
    }
   ],
   "source": [
    "class Student(Person):\n",
    "    def __init__(self, firstname, lastname, subject):\n",
    "        super().__init__(firstname, lastname)\n",
    "        self.subject = subject\n",
    "        \n",
    "    @classmethod\n",
    "    def whoareyou_stud(cls, stud):\n",
    "        print('My name is ' + stud.lastname +', ' +stud.firstname +' '+ stud.lastname +', and I study ' +stud.subject+'.')\n",
    "\n",
    "stud1 = Student('James','Bond','Intersectional feminism 101')\n",
    "Student.whoareyou(stud1)\n",
    "# I hope it's ok to have a Student.printNameSubject(me) structure instead of a me.printNameSubject structure"
   ]
  },
  {
   "cell_type": "code",
   "execution_count": 65,
   "metadata": {},
   "outputs": [
    {
     "name": "stdout",
     "output_type": "stream",
     "text": [
      "My name is Moneypenny, Miss Moneypenny, and I teach Intersectional feminism 101.\n"
     ]
    }
   ],
   "source": [
    "class Teacher(Person):\n",
    "    def __init__(self, firstname, lastname):\n",
    "        super().__init__(firstname, lastname)\n",
    "        \n",
    "    @classmethod\n",
    "    def whoareyou_teacher(cls, course):\n",
    "            print('My name is ' + teacher.lastname +', ' +teacher.firstname +' '+ teacher.lastname +', and I teach ' +course+'.')\n",
    "\n",
    "course = 'Intersectional feminism 101'\n",
    "teacher =Teacher('Miss', 'Moneypenny')\n",
    "Teacher.whoareyou_teacher(course)"
   ]
  }
 ],
 "metadata": {
  "kernelspec": {
   "display_name": "Python 3",
   "language": "python",
   "name": "python3"
  },
  "language_info": {
   "codemirror_mode": {
    "name": "ipython",
    "version": 3
   },
   "file_extension": ".py",
   "mimetype": "text/x-python",
   "name": "python",
   "nbconvert_exporter": "python",
   "pygments_lexer": "ipython3",
   "version": "3.8.5"
  }
 },
 "nbformat": 4,
 "nbformat_minor": 4
}
