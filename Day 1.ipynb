{
 "cells": [
  {
   "cell_type": "markdown",
   "metadata": {},
   "source": [
    "# Day 1, exc.1 "
   ]
  },
  {
   "cell_type": "markdown",
   "metadata": {},
   "source": [
    "This exercise does not give much to show, other than the fact that 'f)' does not work for windows, so I have done most of it in the davinci system. "
   ]
  },
  {
   "cell_type": "markdown",
   "metadata": {},
   "source": [
    "# Day 1, exc.2 "
   ]
  },
  {
   "cell_type": "markdown",
   "metadata": {},
   "source": [
    "There is not much to show here either, but I went through the steps (in davinci) an dit seems like it worked and that in the end my interaction with the original directory was accepted. "
   ]
  },
  {
   "cell_type": "code",
   "execution_count": null,
   "metadata": {},
   "outputs": [],
   "source": [
    "#for 'f)' in this part I used the following steps for the first task: \n",
    "    $ touch file.py\n",
    "    $ git add file.py\n",
    "    $ git commit -m \"did a thing\"\n",
    "    $ git rm file.py\n",
    "and for the second task: \n",
    "    $ touch file2.py\n",
    "    $ git add file2.py\n",
    "    $ git commit -m \"did another thing\"\n",
    "    $ nano file2.py #and here I went in and added a line of text on the file\n",
    "    $ git add file2.py\n",
    "    $ git commit -m \"added text to file2.py\"\n",
    "    "
   ]
  },
  {
   "cell_type": "code",
   "execution_count": null,
   "metadata": {},
   "outputs": [],
   "source": [
    "# for 'g)' I used the following steps: \n",
    "$ git clone https://github.com/JuliaLof/my_repository\n",
    "$ cd my_repository\n",
    "#Then added and commited a test file\n",
    "$ git push\n",
    "$ git remote add parent https://github.com/uu-python/participants.git\n",
    "$ git pull parent master\n",
    "$ git push\n",
    "$ git merge\n",
    "$ git push"
   ]
  },
  {
   "cell_type": "markdown",
   "metadata": {},
   "source": [
    "# Day 1, exc.3"
   ]
  },
  {
   "cell_type": "code",
   "execution_count": null,
   "metadata": {},
   "outputs": [],
   "source": [
    "#I have made a separate notebook for this. "
   ]
  }
 ],
 "metadata": {
  "kernelspec": {
   "display_name": "Python 3",
   "language": "python",
   "name": "python3"
  },
  "language_info": {
   "codemirror_mode": {
    "name": "ipython",
    "version": 3
   },
   "file_extension": ".py",
   "mimetype": "text/x-python",
   "name": "python",
   "nbconvert_exporter": "python",
   "pygments_lexer": "ipython3",
   "version": "3.8.5"
  }
 },
 "nbformat": 4,
 "nbformat_minor": 4
}
