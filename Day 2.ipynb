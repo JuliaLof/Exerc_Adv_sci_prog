{
 "cells": [
  {
   "cell_type": "markdown",
   "metadata": {},
   "source": [
    "# Day 2, exc.1"
   ]
  },
  {
   "cell_type": "markdown",
   "metadata": {},
   "source": [
    "I went through the steps (did them i davinci), and I'll add the codes I created here.\n",
    "The mammal, bird and fish scrips are all inside a package called animals and the test_animals is outside of this."
   ]
  },
  {
   "cell_type": "code",
   "execution_count": null,
   "metadata": {},
   "outputs": [],
   "source": [
    "# This is the __init__ script\n",
    "from .mammals import Mammals\n",
    "from .birds import Birds\n",
    "from .fish import Fish\n"
   ]
  },
  {
   "cell_type": "code",
   "execution_count": 2,
   "metadata": {},
   "outputs": [],
   "source": [
    "# This is the mammals script \n",
    "\n",
    "class Mammals:\n",
    "        def __init__(self):\n",
    "                ''' Constructor for this class'''\n",
    "                # Create member animals\n",
    "                self.members = ['Tiger', 'Elephant', 'Wild Cat']\n",
    "\n",
    "        def printMembers(self):\n",
    "                print('Printing members of the Mammals class')\n",
    "                for member in self.members:\n",
    "                        print('\\t%s ' % member)\n"
   ]
  },
  {
   "cell_type": "code",
   "execution_count": 3,
   "metadata": {},
   "outputs": [],
   "source": [
    "# This is the birds script\n",
    "class Birds:\n",
    "        def __init__(self):\n",
    "                ''' Constructor for this class'''\n",
    "                # Create member animals\n",
    "                self.members = ['Sparrow', 'Robin', 'Duck']\n",
    "\n",
    "        def printMembers(self):\n",
    "                print('Printing members of the Birds class')\n",
    "                for member in self.members:\n",
    "                        print('\\t%s ' % member)\n"
   ]
  },
  {
   "cell_type": "code",
   "execution_count": 4,
   "metadata": {},
   "outputs": [],
   "source": [
    "# This is the fish script\n",
    "class Fish:\n",
    "        def __init__(self):\n",
    "                ''' Constructor for this class. '''\n",
    "                # Create some member animals\n",
    "                self.members = ['Marvin','Nemo','Dory']\n",
    "\n",
    "        def printMembers(self):\n",
    "                print('Printing members of the Fish class')\n",
    "                for member in self.members:\n",
    "                        print('\\t%s ' % member)\n"
   ]
  },
  {
   "cell_type": "code",
   "execution_count": null,
   "metadata": {},
   "outputs": [],
   "source": [
    "# This is the script I made to test my package\n",
    "\n",
    "# Import classes from package\n",
    "from animals import Mammals\n",
    "from animals import Birds\n",
    "from animals import Fish\n",
    "\n",
    "# Create an object of Mammals class and call a method of it\n",
    "myMammal = Mammals()\n",
    "myMammal.printMembers()\n",
    "\n",
    "# Create an object of Birds class and call a method of it\n",
    "myBird = Birds()\n",
    "myBird.printMembers()\n",
    "\n",
    "# Create an object of Fish class and call a method of it\n",
    "myFish = Fish()\n",
    "myFish.printMembers()\n",
    "\n"
   ]
  },
  {
   "cell_type": "markdown",
   "metadata": {},
   "source": [
    "#The output I get is:\n",
    "Printing members of the Mammals class\n",
    "        Tiger\n",
    "        Elephant\n",
    "        Wild Cat\n",
    "Printing members of the Birds class\n",
    "        Sparrow\n",
    "        Robin\n",
    "        Duck\n",
    "Printing members of the Fish class\n",
    "        Marvin\n",
    "        Nemo\n",
    "        Doris"
   ]
  },
  {
   "cell_type": "markdown",
   "metadata": {},
   "source": [
    "For the changes I made subpackages dangerous and harmless within animals. Then I added files with \n",
    "dangerous or harmless fish/mammals/birds in each. I had the similar __init__ file as before in each \n",
    "subpackage, and added an extra __init__ file in the animals package"
   ]
  },
  {
   "cell_type": "code",
   "execution_count": null,
   "metadata": {},
   "outputs": [],
   "source": [
    "#This is the new __init__ file I put in the animals package\n",
    "import animals.harmless as animals\n",
    "import animals.dangerous as animals"
   ]
  },
  {
   "cell_type": "markdown",
   "metadata": {},
   "source": [
    "This is two examples of the harmless birds and dangerous fish files"
   ]
  },
  {
   "cell_type": "code",
   "execution_count": 3,
   "metadata": {},
   "outputs": [],
   "source": [
    "class Birds:\n",
    "        def __init__(self):\n",
    "                ''' Constructor for this class'''\n",
    "                # Create member animals\n",
    "                self.members = ['Sparrow','Robin','Duck']\n",
    "        def printMembers(self):\n",
    "                print('Printing members of the harmless Birds class')\n",
    "                for member in self.members:\n",
    "                        print('\\t%s ' % member)"
   ]
  },
  {
   "cell_type": "code",
   "execution_count": 4,
   "metadata": {},
   "outputs": [],
   "source": [
    "class Fish:\n",
    "        def __init__(self):\n",
    "                ''' Constructor for this class'''\n",
    "                # Create member animals\n",
    "                self.members = ['Stingray', 'Lionfish', 'Piranha']\n",
    "        def printMembers(self):\n",
    "                print('Printing members of the dangerous Fish class')\n",
    "                for member in self.members:\n",
    "                        print('\\t%s ' % member)"
   ]
  },
  {
   "cell_type": "code",
   "execution_count": null,
   "metadata": {},
   "outputs": [],
   "source": [
    "# This is the script I made to test my packages\n",
    "import animals\n",
    "\n",
    "harmless_birds = animals.harmless.Birds()\n",
    "harmless_birds.printMembers()\n",
    "\n",
    "dangerous_fish = animals.dangerous.Fish()\n",
    "dangerous_fish.printMembers()"
   ]
  },
  {
   "cell_type": "markdown",
   "metadata": {},
   "source": [
    "# Day 2, exc 2"
   ]
  },
  {
   "cell_type": "code",
   "execution_count": 7,
   "metadata": {},
   "outputs": [],
   "source": [
    "# See the content of my debugged scripts below. It works ok!\n",
    "# I took the freedom to also reduce the not so nice comments."
   ]
  },
  {
   "cell_type": "code",
   "execution_count": null,
   "metadata": {},
   "outputs": [],
   "source": [
    "#main.py\n",
    "from dicegame.runner import GameRunner\n",
    "\n",
    "\n",
    "def main():\n",
    "    print(\"Add the values of the dice\")\n",
    "#    import pdb; pdb.set_trace()\n",
    "    GameRunner.run()\n",
    "\n",
    "\n",
    "if __name__ == \"__main__\":\n",
    "    main()\n"
   ]
  },
  {
   "cell_type": "code",
   "execution_count": 9,
   "metadata": {},
   "outputs": [],
   "source": [
    "#die.py\n",
    "\n",
    "#Count the dice\n",
    "import random\n",
    "\n",
    "class Die:\n",
    "    \"\"\"\n",
    "    This is always correct. Seriously, look away.\n",
    "    \"\"\"\n",
    "\n",
    "    def __init__(self):\n",
    "        self.roll()\n",
    "\n",
    "    def roll(self):\n",
    "        self.value = int(random.random() * 6 + 1)\n",
    "        return self.value\n",
    "\n",
    "    def answer(self):\n",
    "        total = 0\n",
    "        total += self.value\n",
    "        return total\n",
    "\n",
    "\n",
    "    def show(self):\n",
    "        if self.value == 1:\n",
    "            return(\"---------\\n|       |\\n|   *   |\\n|       |\\n---------\")\n",
    "        elif self.value == 2:\n",
    "            return(\"---------\\n|*      |\\n|       |\\n|      *|\\n---------\")\n",
    "        elif self.value == 3:\n",
    "            return(\"---------\\n|*      |\\n|   *   |\\n|      *|\\n---------\")\n",
    "        elif self.value == 4:\n",
    "            return(\"---------\\n|*     *|\\n|       |\\n|*     *|\\n---------\")\n",
    "        elif self.value == 5:\n",
    "            return(\"---------\\n|*     *|\\n|   *   |\\n|*     *|\\n---------\")\n",
    "        else:\n",
    "            return(\"---------\\n|*     *|\\n|*     *|\\n|*     *|\\n---------\")\n",
    "\n",
    "    @classmethod\n",
    "    def create_dice(cls, n):\n",
    "        return [cls() for _ in range(n)]\n"
   ]
  },
  {
   "cell_type": "markdown",
   "metadata": {},
   "source": [
    "In runner.py I get it to do what it is supposed to, but there are two alternatives. \n",
    "Either it does not update the rounds, wins and losses in the text (if runner is in the loop)\n",
    "or it will not update the dice to a new roll (runner outside loop).\n",
    "It still follows the basic instruction, so I will leave this here, but I will also try \n",
    "to solve it in the coming two weeks, but I have too much teaching right now and I'm one of \n",
    "the people who are very new to python in general, so I need some more time. \n",
    " - Julia 21-02-32"
   ]
  },
  {
   "cell_type": "code",
   "execution_count": null,
   "metadata": {},
   "outputs": [],
   "source": [
    "#runner.py\n",
    "from .die import Die\n",
    "\n",
    "class GameRunner:\n",
    "\n",
    "    def __init__(self):\n",
    "        self.dice = Die.create_dice(5)\n",
    "        self.reset()\n",
    "\n",
    "    def reset(self):\n",
    "        self.round = 1\n",
    "        self.wins = 0\n",
    "        self.loses = 0\n",
    "\n",
    "\n",
    "    @classmethod\n",
    "    def run(cls):\n",
    "        c = 0\n",
    "        runner = cls()\n",
    "\n",
    "        while True:\n",
    "#           runner = cls()\n",
    "\n",
    "            print(\"Round {}\\n\".format(runner.round))\n",
    "            total = 0\n",
    "            for die in runner.dice:\n",
    "                print(die.show())\n",
    "                total += die.answer()\n",
    "\n",
    "            guess = input(\"What is your guess?: \")\n",
    "            guess = int(guess)\n",
    "\n",
    "            if guess == total:\n",
    "                print(\"Congratulations, well done!\")\n",
    "                runner.wins += 1\n",
    "                c += 1\n",
    "            else:\n",
    "                print(\"Sorry that's wrong\")\n",
    "                print(\"The answer is: {}\".format(total))\n",
    "                runner.loses += 1\n",
    "                c = 0\n",
    "\n",
    "            print(\"Wins: {} Loses {}\".format(runner.wins, runner.loses))\n",
    "            runner.round += 1\n",
    "\n",
    "            if c == 6:\n",
    "                print(\"You won... Congrats!\")\n",
    "                #break\n",
    "\n",
    "                prompt = raw_input(\"Would you like to play again? y/n: \")\n",
    "            #print(prompt)\n",
    "            #prompt = str(prompt)\n",
    "\n",
    "                if prompt == \"y\":\n",
    "                        continue\n",
    "                else:\n",
    "                        break"
   ]
  },
  {
   "cell_type": "markdown",
   "metadata": {},
   "source": [
    "# Day 2 exc.3"
   ]
  },
  {
   "cell_type": "code",
   "execution_count": 10,
   "metadata": {},
   "outputs": [],
   "source": [
    "# I did this using spyder "
   ]
  },
  {
   "cell_type": "markdown",
   "metadata": {},
   "source": [
    "for a) I put in a def matmult() in order to make a function that could be \n",
    "profiled. I put the @profile right above this. I also put in a matmult() \n",
    "right at the end so that it would do something, and added #!/usr/bin/python as the first line.\n",
    "\n",
    "The lines that I found took the longest were line 28 (6984 ms) and 29 (12819 ms), bear in mind that I've some lines above, but the 28 and 29 in my case were related to the for loop that did matrix multiplication. The lines that had the largest memory usage were: 24, 26, 28, 29, 31 and 32, which all took 44 MiB. In regards to increments, it is a bit unclear, since some of them are negative. I've added a picture showing the results in de repository. "
   ]
  },
  {
   "cell_type": "markdown",
   "metadata": {},
   "source": [
    "for b) the line that took the longest in Euler was line 52 (no additions\n",
    "from me in this one). That line also had the larges increment. "
   ]
  },
  {
   "cell_type": "markdown",
   "metadata": {},
   "source": [
    "for c) I used numpy, which is also in a later exercise. The script can be\n",
    "seen below. It only took 371 ms for the whole script this way, which is quite an improvement."
   ]
  },
  {
   "cell_type": "code",
   "execution_count": null,
   "metadata": {},
   "outputs": [],
   "source": [
    "#!/usr/bin/python\n",
    "# Program to multiply two matrices using nested loops\n",
    "import numpy as np\n",
    "import random\n",
    "  \n",
    "N = 250\n",
    "@profile\n",
    "def matmult():\n",
    "    # NxN matrix\n",
    "    X = np.random.randint(101, size=(N, N))\n",
    "    # for i in range(N):\n",
    "    #    X.append([random.randint(0,100) for r in range(N)])\n",
    "    \n",
    "    # Nx(N+1) matrix\n",
    "    Y = np.random.randint(101, size=(N, N+1))\n",
    "    # for i in range(N):\n",
    "    #    Y.append([random.randint(0,100) for r in range(N+1)])\n",
    "    \n",
    "    # result is Nx(N+1)\n",
    "    # result = []\n",
    "    # for i in range(N):\n",
    "    #    result.append([0] * (N+1))\n",
    "      \n",
    "    # iterate through rows of X\n",
    "    result=np.matmul(X, Y)\n",
    "    # for i in range(len(X)):\n",
    "        # iterate through columns of Y\n",
    "    #    for j in range(len(Y[0])):\n",
    "            # iterate through rows of Y\n",
    "    #        for k in range(len(Y)):\n",
    "    #            result[i][j] += X[i][k] * Y[k][j]\n",
    "    \n",
    "    for r in result:\n",
    "        print(r)\n",
    "matmult()"
   ]
  }
 ],
 "metadata": {
  "kernelspec": {
   "display_name": "Python 3",
   "language": "python",
   "name": "python3"
  },
  "language_info": {
   "codemirror_mode": {
    "name": "ipython",
    "version": 3
   },
   "file_extension": ".py",
   "mimetype": "text/x-python",
   "name": "python",
   "nbconvert_exporter": "python",
   "pygments_lexer": "ipython3",
   "version": "3.8.5"
  }
 },
 "nbformat": 4,
 "nbformat_minor": 4
}
